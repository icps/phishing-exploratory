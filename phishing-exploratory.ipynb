{
 "cells": [
  {
   "cell_type": "code",
   "execution_count": 1,
   "id": "5d4a5d98",
   "metadata": {
    "execution": {
     "iopub.execute_input": "2021-07-30T20:44:11.743906Z",
     "iopub.status.busy": "2021-07-30T20:44:11.742602Z",
     "iopub.status.idle": "2021-07-30T20:44:13.213626Z",
     "shell.execute_reply": "2021-07-30T20:44:13.212247Z",
     "shell.execute_reply.started": "2021-07-30T20:41:24.922149Z"
    },
    "papermill": {
     "duration": 1.514812,
     "end_time": "2021-07-30T20:44:13.213827",
     "exception": false,
     "start_time": "2021-07-30T20:44:11.699015",
     "status": "completed"
    },
    "tags": []
   },
   "outputs": [],
   "source": [
    "import numpy as np\n",
    "import pandas as pd\n",
    "import random as rnd\n",
    "\n",
    "import matplotlib.pyplot as plt\n",
    "\n",
    "from sklearn import preprocessing\n",
    "from sklearn.decomposition import PCA\n",
    "from sklearn.feature_selection import SelectKBest\n",
    "from sklearn.feature_selection import f_classif\n",
    "\n",
    "from sklearn.feature_selection import SelectFromModel\n",
    "from sklearn.feature_selection import RFECV\n",
    "\n",
    "import xgboost as xgb\n",
    "\n",
    "import sklearn.ensemble as ske\n",
    "from sklearn.neighbors import LocalOutlierFactor\n",
    "from sklearn.tree import DecisionTreeClassifier\n",
    "from sklearn.linear_model import LogisticRegression\n",
    "from sklearn.neighbors import KNeighborsClassifier\n",
    "\n",
    "from sklearn.model_selection import GridSearchCV\n",
    "from sklearn.model_selection import StratifiedKFold\n",
    "from sklearn.model_selection import train_test_split\n",
    "from sklearn.model_selection import cross_val_score, cross_val_predict, cross_validate\n",
    "\n",
    "from sklearn.metrics import confusion_matrix\n",
    "from sklearn.metrics import recall_score\n",
    "from sklearn.metrics import accuracy_score\n",
    "\n",
    "seed = 3245678\n",
    "np.random.seed(seed)\n",
    "rnd.seed(seed)"
   ]
  },
  {
   "cell_type": "code",
   "execution_count": 2,
   "id": "ca589a69",
   "metadata": {
    "execution": {
     "iopub.execute_input": "2021-07-30T20:44:13.299758Z",
     "iopub.status.busy": "2021-07-30T20:44:13.298994Z",
     "iopub.status.idle": "2021-07-30T20:44:13.301064Z",
     "shell.execute_reply": "2021-07-30T20:44:13.301578Z",
     "shell.execute_reply.started": "2021-07-30T20:41:26.209046Z"
    },
    "papermill": {
     "duration": 0.048872,
     "end_time": "2021-07-30T20:44:13.301754",
     "exception": false,
     "start_time": "2021-07-30T20:44:13.252882",
     "status": "completed"
    },
    "tags": []
   },
   "outputs": [],
   "source": [
    "### using stratified K-fold to account for imbalanced data\n",
    "def cross_val_classify(data, target, est, seed):\n",
    "\n",
    "    classifiers = {'RandomForest': ske.RandomForestClassifier(n_estimators = est, random_state = seed),\n",
    "                  'GradientBoosting': ske.GradientBoostingClassifier(n_estimators = est, random_state = seed),\n",
    "                  'AdaBoost': ske.AdaBoostClassifier(n_estimators = est, random_state = seed),\n",
    "                  'DecisionTree': DecisionTreeClassifier(random_state = seed),}\n",
    "\n",
    "    sco = []\n",
    "    \n",
    "    for classif in classifiers:\n",
    "        skf    = StratifiedKFold(n_splits = 5, shuffle = True, random_state = seed)\n",
    "        clf    = classifiers[classif]\n",
    "        scores = cross_val_score(clf, data, target, cv = skf, n_jobs = -1)           \n",
    "\n",
    "        print(\"%s : %0.2f (%0.2f) %%\" % (classif, scores.mean() * 100, scores.std() * 100))\n",
    "        \n",
    "        sco.append(scores.mean())\n",
    "        \n",
    "    return sco"
   ]
  },
  {
   "cell_type": "code",
   "execution_count": 3,
   "id": "f354b4a9",
   "metadata": {
    "execution": {
     "iopub.execute_input": "2021-07-30T20:44:13.382401Z",
     "iopub.status.busy": "2021-07-30T20:44:13.381642Z",
     "iopub.status.idle": "2021-07-30T20:44:13.830659Z",
     "shell.execute_reply": "2021-07-30T20:44:13.831187Z",
     "shell.execute_reply.started": "2021-07-30T20:41:26.219514Z"
    },
    "papermill": {
     "duration": 0.491766,
     "end_time": "2021-07-30T20:44:13.831396",
     "exception": false,
     "start_time": "2021-07-30T20:44:13.339630",
     "status": "completed"
    },
    "tags": []
   },
   "outputs": [],
   "source": [
    "training_data = np.genfromtxt('../input/phishing/phishing.csv', delimiter = ',', dtype = np.int32)"
   ]
  },
  {
   "cell_type": "code",
   "execution_count": 4,
   "id": "814791ac",
   "metadata": {
    "execution": {
     "iopub.execute_input": "2021-07-30T20:44:13.912056Z",
     "iopub.status.busy": "2021-07-30T20:44:13.911355Z",
     "iopub.status.idle": "2021-07-30T20:44:13.915115Z",
     "shell.execute_reply": "2021-07-30T20:44:13.915625Z",
     "shell.execute_reply.started": "2021-07-30T20:41:26.671341Z"
    },
    "papermill": {
     "duration": 0.045618,
     "end_time": "2021-07-30T20:44:13.915815",
     "exception": false,
     "start_time": "2021-07-30T20:44:13.870197",
     "status": "completed"
    },
    "tags": []
   },
   "outputs": [],
   "source": [
    "# Identify the inputs (all of the attributes, except for the last one) and the outputs (the last attribute):\n",
    "inputs  = training_data[:,:-1]\n",
    "outputs = training_data[:,-1]"
   ]
  },
  {
   "cell_type": "code",
   "execution_count": 5,
   "id": "0c4bca55",
   "metadata": {
    "execution": {
     "iopub.execute_input": "2021-07-30T20:44:13.995238Z",
     "iopub.status.busy": "2021-07-30T20:44:13.994553Z",
     "iopub.status.idle": "2021-07-30T20:44:14.002959Z",
     "shell.execute_reply": "2021-07-30T20:44:14.002435Z",
     "shell.execute_reply.started": "2021-07-30T20:41:26.677310Z"
    },
    "papermill": {
     "duration": 0.049673,
     "end_time": "2021-07-30T20:44:14.003105",
     "exception": false,
     "start_time": "2021-07-30T20:44:13.953432",
     "status": "completed"
    },
    "tags": []
   },
   "outputs": [
    {
     "data": {
      "text/plain": [
       "(11055, 30)"
      ]
     },
     "execution_count": 5,
     "metadata": {},
     "output_type": "execute_result"
    }
   ],
   "source": [
    "# there are 30 features\n",
    "inputs.shape"
   ]
  },
  {
   "cell_type": "code",
   "execution_count": 6,
   "id": "6e2a469f",
   "metadata": {
    "execution": {
     "iopub.execute_input": "2021-07-30T20:44:14.083564Z",
     "iopub.status.busy": "2021-07-30T20:44:14.082680Z",
     "iopub.status.idle": "2021-07-30T20:44:14.092251Z",
     "shell.execute_reply": "2021-07-30T20:44:14.091732Z",
     "shell.execute_reply.started": "2021-07-30T20:41:26.692943Z"
    },
    "papermill": {
     "duration": 0.050817,
     "end_time": "2021-07-30T20:44:14.092425",
     "exception": false,
     "start_time": "2021-07-30T20:44:14.041608",
     "status": "completed"
    },
    "tags": []
   },
   "outputs": [
    {
     "data": {
      "text/plain": [
       "array([], shape=(0, 2), dtype=int64)"
      ]
     },
     "execution_count": 6,
     "metadata": {},
     "output_type": "execute_result"
    }
   ],
   "source": [
    "## there is not null values\n",
    "np.argwhere(np.isnan(inputs))"
   ]
  },
  {
   "cell_type": "code",
   "execution_count": 7,
   "id": "c75af463",
   "metadata": {
    "execution": {
     "iopub.execute_input": "2021-07-30T20:44:14.175366Z",
     "iopub.status.busy": "2021-07-30T20:44:14.174696Z",
     "iopub.status.idle": "2021-07-30T20:44:14.176632Z",
     "shell.execute_reply": "2021-07-30T20:44:14.177067Z",
     "shell.execute_reply.started": "2021-07-30T20:41:26.707778Z"
    },
    "papermill": {
     "duration": 0.04539,
     "end_time": "2021-07-30T20:44:14.177246",
     "exception": false,
     "start_time": "2021-07-30T20:44:14.131856",
     "status": "completed"
    },
    "tags": []
   },
   "outputs": [],
   "source": [
    "# dividing the dataset into training and testing:\n",
    "training_inputs  = inputs[:2000]\n",
    "training_outputs = outputs[:2000]\n",
    "testing_inputs   = inputs[2000:]\n",
    "testing_outputs  = outputs[2000:]"
   ]
  },
  {
   "cell_type": "code",
   "execution_count": 8,
   "id": "6311796f",
   "metadata": {
    "execution": {
     "iopub.execute_input": "2021-07-30T20:44:14.257254Z",
     "iopub.status.busy": "2021-07-30T20:44:14.256605Z",
     "iopub.status.idle": "2021-07-30T20:44:14.475408Z",
     "shell.execute_reply": "2021-07-30T20:44:14.477156Z",
     "shell.execute_reply.started": "2021-07-30T20:41:26.714557Z"
    },
    "papermill": {
     "duration": 0.262146,
     "end_time": "2021-07-30T20:44:14.477550",
     "exception": false,
     "start_time": "2021-07-30T20:44:14.215404",
     "status": "completed"
    },
    "tags": []
   },
   "outputs": [
    {
     "name": "stdout",
     "output_type": "stream",
     "text": [
      "The accuracy of your Logistic Regression on testing data is: 84.51684152401988\n",
      "The accuracy of your Decision Tree on testing data is: 90.56874654886803\n"
     ]
    }
   ],
   "source": [
    "classifier1 = LogisticRegression()\n",
    "classifier2 = DecisionTreeClassifier()\n",
    "\n",
    "# Train the classifiers:\n",
    "classifier1.fit(training_inputs, training_outputs)\n",
    "classifier2.fit(training_inputs, training_outputs)\n",
    "\n",
    "predictions1 = classifier1.predict(testing_inputs)\n",
    "predictions2 = classifier2.predict(testing_inputs)\n",
    "\n",
    "# print out the accuracy of our phishing detector models:\n",
    "accuracy1 = 100.0 * accuracy_score(testing_outputs, predictions1)\n",
    "accuracy2 = 100.0 * accuracy_score(testing_outputs, predictions2)\n",
    "\n",
    "print (\"The accuracy of your Logistic Regression on testing data is: \" +str(accuracy1))\n",
    "print (\"The accuracy of your Decision Tree on testing data is: \" +str(accuracy2))"
   ]
  },
  {
   "cell_type": "markdown",
   "id": "2bb5dcf7",
   "metadata": {
    "papermill": {
     "duration": 0.053609,
     "end_time": "2021-07-30T20:44:14.602625",
     "exception": false,
     "start_time": "2021-07-30T20:44:14.549016",
     "status": "completed"
    },
    "tags": []
   },
   "source": [
    "To avoid bias that may exist, we use cross-validation."
   ]
  },
  {
   "cell_type": "code",
   "execution_count": 9,
   "id": "8bbcd587",
   "metadata": {
    "execution": {
     "iopub.execute_input": "2021-07-30T20:44:14.687448Z",
     "iopub.status.busy": "2021-07-30T20:44:14.686774Z",
     "iopub.status.idle": "2021-07-30T20:44:17.620166Z",
     "shell.execute_reply": "2021-07-30T20:44:17.619485Z",
     "shell.execute_reply.started": "2021-07-30T20:41:26.923467Z"
    },
    "papermill": {
     "duration": 2.978537,
     "end_time": "2021-07-30T20:44:17.620331",
     "exception": false,
     "start_time": "2021-07-30T20:44:14.641794",
     "status": "completed"
    },
    "tags": []
   },
   "outputs": [
    {
     "name": "stdout",
     "output_type": "stream",
     "text": [
      "RandomForest : 96.90 (0.32) %\n",
      "GradientBoosting : 91.71 (0.28) %\n",
      "AdaBoost : 92.90 (0.46) %\n",
      "DecisionTree : 96.32 (0.40) %\n"
     ]
    },
    {
     "data": {
      "text/plain": [
       "[0.9689733152419719,\n",
       " 0.9171415649027589,\n",
       " 0.9289914066033468,\n",
       " 0.9631840796019902]"
      ]
     },
     "execution_count": 9,
     "metadata": {},
     "output_type": "execute_result"
    }
   ],
   "source": [
    "cross_val_classify(inputs, outputs, 10, seed)"
   ]
  },
  {
   "cell_type": "markdown",
   "id": "6d0a2312",
   "metadata": {
    "papermill": {
     "duration": 0.042331,
     "end_time": "2021-07-30T20:44:17.703596",
     "exception": false,
     "start_time": "2021-07-30T20:44:17.661265",
     "status": "completed"
    },
    "tags": []
   },
   "source": [
    "The data is already normalized."
   ]
  },
  {
   "cell_type": "markdown",
   "id": "15ad25c3",
   "metadata": {
    "papermill": {
     "duration": 0.039941,
     "end_time": "2021-07-30T20:44:17.784441",
     "exception": false,
     "start_time": "2021-07-30T20:44:17.744500",
     "status": "completed"
    },
    "tags": []
   },
   "source": [
    "### Feature Selection"
   ]
  },
  {
   "cell_type": "markdown",
   "id": "3de1e17e",
   "metadata": {
    "papermill": {
     "duration": 0.040117,
     "end_time": "2021-07-30T20:44:17.865227",
     "exception": false,
     "start_time": "2021-07-30T20:44:17.825110",
     "status": "completed"
    },
    "tags": []
   },
   "source": [
    "#### Feature selection using Extra Trees"
   ]
  },
  {
   "cell_type": "code",
   "execution_count": 10,
   "id": "42866a49",
   "metadata": {
    "execution": {
     "iopub.execute_input": "2021-07-30T20:44:17.953340Z",
     "iopub.status.busy": "2021-07-30T20:44:17.952671Z",
     "iopub.status.idle": "2021-07-30T20:44:19.573404Z",
     "shell.execute_reply": "2021-07-30T20:44:19.572815Z",
     "shell.execute_reply.started": "2021-07-30T20:41:30.220585Z"
    },
    "papermill": {
     "duration": 1.667865,
     "end_time": "2021-07-30T20:44:19.573557",
     "exception": false,
     "start_time": "2021-07-30T20:44:17.905692",
     "status": "completed"
    },
    "tags": []
   },
   "outputs": [],
   "source": [
    "this_data  = inputs\n",
    "target     = outputs\n",
    "\n",
    "FeatSelect = ske.ExtraTreesClassifier(random_state = seed).fit(this_data, target)\n",
    "Model      = SelectFromModel(FeatSelect, prefit = True)\n",
    "Data_new   = Model.transform(this_data)\n",
    "\n",
    "Features   = Data_new.shape[1]\n",
    "index      = np.argsort(ske.ExtraTreesClassifier().fit(this_data, target).feature_importances_)[::-1][:Features]"
   ]
  },
  {
   "cell_type": "code",
   "execution_count": 11,
   "id": "920e6b2f",
   "metadata": {
    "execution": {
     "iopub.execute_input": "2021-07-30T20:44:19.676364Z",
     "iopub.status.busy": "2021-07-30T20:44:19.675663Z",
     "iopub.status.idle": "2021-07-30T20:44:19.680186Z",
     "shell.execute_reply": "2021-07-30T20:44:19.679522Z",
     "shell.execute_reply.started": "2021-07-30T20:41:31.820516Z"
    },
    "papermill": {
     "duration": 0.053819,
     "end_time": "2021-07-30T20:44:19.680351",
     "exception": false,
     "start_time": "2021-07-30T20:44:19.626532",
     "status": "completed"
    },
    "tags": []
   },
   "outputs": [
    {
     "data": {
      "text/plain": [
       "(11055, 6)"
      ]
     },
     "execution_count": 11,
     "metadata": {},
     "output_type": "execute_result"
    }
   ],
   "source": [
    "Data_new.shape"
   ]
  },
  {
   "cell_type": "code",
   "execution_count": 12,
   "id": "73512e06",
   "metadata": {
    "execution": {
     "iopub.execute_input": "2021-07-30T20:44:19.765535Z",
     "iopub.status.busy": "2021-07-30T20:44:19.764824Z",
     "iopub.status.idle": "2021-07-30T20:44:20.286497Z",
     "shell.execute_reply": "2021-07-30T20:44:20.287042Z",
     "shell.execute_reply.started": "2021-07-30T20:41:31.828966Z"
    },
    "papermill": {
     "duration": 0.566331,
     "end_time": "2021-07-30T20:44:20.287217",
     "exception": false,
     "start_time": "2021-07-30T20:44:19.720886",
     "status": "completed"
    },
    "tags": []
   },
   "outputs": [
    {
     "name": "stdout",
     "output_type": "stream",
     "text": [
      "RandomForest : 93.74 (0.21) %\n",
      "GradientBoosting : 91.71 (0.28) %\n",
      "AdaBoost : 92.69 (0.25) %\n",
      "DecisionTree : 93.70 (0.25) %\n"
     ]
    },
    {
     "data": {
      "text/plain": [
       "[0.9374038896426956, 0.9171415649027589, 0.9269109000452284, 0.936951605608322]"
      ]
     },
     "execution_count": 12,
     "metadata": {},
     "output_type": "execute_result"
    }
   ],
   "source": [
    "cross_val_classify(Data_new, target, 10, seed)"
   ]
  },
  {
   "cell_type": "markdown",
   "id": "c176e75e",
   "metadata": {
    "papermill": {
     "duration": 0.045145,
     "end_time": "2021-07-30T20:44:20.375269",
     "exception": false,
     "start_time": "2021-07-30T20:44:20.330124",
     "status": "completed"
    },
    "tags": []
   },
   "source": [
    "#### Feature selection using Random Forest"
   ]
  },
  {
   "cell_type": "code",
   "execution_count": 13,
   "id": "c597a7e4",
   "metadata": {
    "execution": {
     "iopub.execute_input": "2021-07-30T20:44:20.474273Z",
     "iopub.status.busy": "2021-07-30T20:44:20.473593Z",
     "iopub.status.idle": "2021-07-30T20:44:21.958181Z",
     "shell.execute_reply": "2021-07-30T20:44:21.957546Z",
     "shell.execute_reply.started": "2021-07-30T20:41:32.294884Z"
    },
    "papermill": {
     "duration": 1.535735,
     "end_time": "2021-07-30T20:44:21.958358",
     "exception": false,
     "start_time": "2021-07-30T20:44:20.422623",
     "status": "completed"
    },
    "tags": []
   },
   "outputs": [],
   "source": [
    "FeatSelect = ske.RandomForestClassifier(random_state = seed).fit(this_data, target)\n",
    "Model      = SelectFromModel(FeatSelect, prefit = True)\n",
    "data_rnf   = Model.transform(this_data)\n",
    "\n",
    "Features = data_rnf.shape[1]\n",
    "index    = np.argsort(ske.RandomForestClassifier().fit(this_data, target).feature_importances_)[::-1][:Features]"
   ]
  },
  {
   "cell_type": "code",
   "execution_count": 14,
   "id": "a340edef",
   "metadata": {
    "execution": {
     "iopub.execute_input": "2021-07-30T20:44:22.048082Z",
     "iopub.status.busy": "2021-07-30T20:44:22.047383Z",
     "iopub.status.idle": "2021-07-30T20:44:22.051516Z",
     "shell.execute_reply": "2021-07-30T20:44:22.052061Z",
     "shell.execute_reply.started": "2021-07-30T20:41:33.730596Z"
    },
    "papermill": {
     "duration": 0.051654,
     "end_time": "2021-07-30T20:44:22.052253",
     "exception": false,
     "start_time": "2021-07-30T20:44:22.000599",
     "status": "completed"
    },
    "tags": []
   },
   "outputs": [
    {
     "data": {
      "text/plain": [
       "(11055, 6)"
      ]
     },
     "execution_count": 14,
     "metadata": {},
     "output_type": "execute_result"
    }
   ],
   "source": [
    "data_rnf.shape"
   ]
  },
  {
   "cell_type": "code",
   "execution_count": 15,
   "id": "c8f5efd7",
   "metadata": {
    "execution": {
     "iopub.execute_input": "2021-07-30T20:44:22.141808Z",
     "iopub.status.busy": "2021-07-30T20:44:22.140791Z",
     "iopub.status.idle": "2021-07-30T20:44:22.626814Z",
     "shell.execute_reply": "2021-07-30T20:44:22.626264Z",
     "shell.execute_reply.started": "2021-07-30T20:41:33.737966Z"
    },
    "papermill": {
     "duration": 0.53295,
     "end_time": "2021-07-30T20:44:22.626962",
     "exception": false,
     "start_time": "2021-07-30T20:44:22.094012",
     "status": "completed"
    },
    "tags": []
   },
   "outputs": [
    {
     "name": "stdout",
     "output_type": "stream",
     "text": [
      "RandomForest : 93.74 (0.21) %\n",
      "GradientBoosting : 91.71 (0.28) %\n",
      "AdaBoost : 92.69 (0.25) %\n",
      "DecisionTree : 93.70 (0.25) %\n"
     ]
    },
    {
     "data": {
      "text/plain": [
       "[0.9374038896426956, 0.9171415649027589, 0.9269109000452284, 0.936951605608322]"
      ]
     },
     "execution_count": 15,
     "metadata": {},
     "output_type": "execute_result"
    }
   ],
   "source": [
    "cross_val_classify(data_rnf, target, 10, seed)"
   ]
  },
  {
   "cell_type": "markdown",
   "id": "c9b06aed",
   "metadata": {
    "papermill": {
     "duration": 0.042582,
     "end_time": "2021-07-30T20:44:22.711841",
     "exception": false,
     "start_time": "2021-07-30T20:44:22.669259",
     "status": "completed"
    },
    "tags": []
   },
   "source": [
    "#### Feature selection using recursive feature elimination"
   ]
  },
  {
   "cell_type": "code",
   "execution_count": 16,
   "id": "af71d184",
   "metadata": {
    "execution": {
     "iopub.execute_input": "2021-07-30T20:44:22.803926Z",
     "iopub.status.busy": "2021-07-30T20:44:22.803180Z",
     "iopub.status.idle": "2021-07-30T20:44:24.204301Z",
     "shell.execute_reply": "2021-07-30T20:44:24.203642Z",
     "shell.execute_reply.started": "2021-07-30T20:41:34.195638Z"
    },
    "papermill": {
     "duration": 1.448671,
     "end_time": "2021-07-30T20:44:24.204454",
     "exception": false,
     "start_time": "2021-07-30T20:44:22.755783",
     "status": "completed"
    },
    "scrolled": true,
    "tags": []
   },
   "outputs": [
    {
     "data": {
      "text/plain": [
       "RFECV(cv=5, estimator=DecisionTreeClassifier(random_state=3245678), n_jobs=-1)"
      ]
     },
     "execution_count": 16,
     "metadata": {},
     "output_type": "execute_result"
    }
   ],
   "source": [
    "estimator = DecisionTreeClassifier(random_state = seed)\n",
    "selector  = RFECV(estimator, step = 1, cv = 5, n_jobs = -1)\n",
    "selector.fit(this_data, target)"
   ]
  },
  {
   "cell_type": "code",
   "execution_count": 17,
   "id": "eea9530f",
   "metadata": {
    "execution": {
     "iopub.execute_input": "2021-07-30T20:44:24.296361Z",
     "iopub.status.busy": "2021-07-30T20:44:24.295683Z",
     "iopub.status.idle": "2021-07-30T20:44:24.300046Z",
     "shell.execute_reply": "2021-07-30T20:44:24.299464Z",
     "shell.execute_reply.started": "2021-07-30T20:41:35.570607Z"
    },
    "papermill": {
     "duration": 0.052675,
     "end_time": "2021-07-30T20:44:24.300201",
     "exception": false,
     "start_time": "2021-07-30T20:44:24.247526",
     "status": "completed"
    },
    "tags": []
   },
   "outputs": [],
   "source": [
    "data_rfe = selector.transform(this_data)"
   ]
  },
  {
   "cell_type": "code",
   "execution_count": 18,
   "id": "8e08cca7",
   "metadata": {
    "execution": {
     "iopub.execute_input": "2021-07-30T20:44:24.391736Z",
     "iopub.status.busy": "2021-07-30T20:44:24.390837Z",
     "iopub.status.idle": "2021-07-30T20:44:24.395423Z",
     "shell.execute_reply": "2021-07-30T20:44:24.394885Z",
     "shell.execute_reply.started": "2021-07-30T20:41:35.576027Z"
    },
    "papermill": {
     "duration": 0.052313,
     "end_time": "2021-07-30T20:44:24.395582",
     "exception": false,
     "start_time": "2021-07-30T20:44:24.343269",
     "status": "completed"
    },
    "tags": []
   },
   "outputs": [
    {
     "data": {
      "text/plain": [
       "(11055, 17)"
      ]
     },
     "execution_count": 18,
     "metadata": {},
     "output_type": "execute_result"
    }
   ],
   "source": [
    "data_rfe.shape"
   ]
  },
  {
   "cell_type": "code",
   "execution_count": 19,
   "id": "f27eea41",
   "metadata": {
    "execution": {
     "iopub.execute_input": "2021-07-30T20:44:24.484860Z",
     "iopub.status.busy": "2021-07-30T20:44:24.484191Z",
     "iopub.status.idle": "2021-07-30T20:44:25.160688Z",
     "shell.execute_reply": "2021-07-30T20:44:25.159996Z",
     "shell.execute_reply.started": "2021-07-30T20:41:35.587843Z"
    },
    "papermill": {
     "duration": 0.722008,
     "end_time": "2021-07-30T20:44:25.160839",
     "exception": false,
     "start_time": "2021-07-30T20:44:24.438831",
     "status": "completed"
    },
    "tags": []
   },
   "outputs": [
    {
     "name": "stdout",
     "output_type": "stream",
     "text": [
      "RandomForest : 96.59 (0.36) %\n",
      "GradientBoosting : 91.71 (0.28) %\n",
      "AdaBoost : 92.90 (0.46) %\n",
      "DecisionTree : 96.00 (0.48) %\n"
     ]
    },
    {
     "data": {
      "text/plain": [
       "[0.9658977838082314,\n",
       " 0.9171415649027589,\n",
       " 0.9289914066033468,\n",
       " 0.9600180913613748]"
      ]
     },
     "execution_count": 19,
     "metadata": {},
     "output_type": "execute_result"
    }
   ],
   "source": [
    "cross_val_classify(data_rfe, target, 10, seed)"
   ]
  },
  {
   "cell_type": "markdown",
   "id": "4a892fe8",
   "metadata": {
    "papermill": {
     "duration": 0.044023,
     "end_time": "2021-07-30T20:44:25.248998",
     "exception": false,
     "start_time": "2021-07-30T20:44:25.204975",
     "status": "completed"
    },
    "tags": []
   },
   "source": [
    "#### Data reduction with PCA"
   ]
  },
  {
   "cell_type": "code",
   "execution_count": 20,
   "id": "4eb041e7",
   "metadata": {
    "execution": {
     "iopub.execute_input": "2021-07-30T20:44:25.343992Z",
     "iopub.status.busy": "2021-07-30T20:44:25.343301Z",
     "iopub.status.idle": "2021-07-30T20:45:12.935371Z",
     "shell.execute_reply": "2021-07-30T20:45:12.935894Z",
     "shell.execute_reply.started": "2021-07-30T20:41:36.240651Z"
    },
    "papermill": {
     "duration": 47.643116,
     "end_time": "2021-07-30T20:45:12.936155",
     "exception": false,
     "start_time": "2021-07-30T20:44:25.293039",
     "status": "completed"
    },
    "scrolled": true,
    "tags": []
   },
   "outputs": [
    {
     "name": "stdout",
     "output_type": "stream",
     "text": [
      "------- For 1 components\n",
      "RandomForest : 80.26 (0.54) %\n",
      "GradientBoosting : 59.67 (0.24) %\n",
      "AdaBoost : 61.58 (0.66) %\n",
      "DecisionTree : 81.85 (0.53) %\n",
      "------- For 2 components\n",
      "RandomForest : 88.96 (0.59) %\n",
      "GradientBoosting : 74.67 (0.68) %\n",
      "AdaBoost : 73.19 (0.15) %\n",
      "DecisionTree : 88.52 (0.47) %\n",
      "------- For 3 components\n",
      "RandomForest : 91.58 (0.47) %\n",
      "GradientBoosting : 79.29 (0.55) %\n",
      "AdaBoost : 78.76 (0.64) %\n",
      "DecisionTree : 90.27 (0.47) %\n",
      "------- For 4 components\n",
      "RandomForest : 93.81 (0.30) %\n",
      "GradientBoosting : 86.85 (0.64) %\n",
      "AdaBoost : 84.36 (1.30) %\n",
      "DecisionTree : 92.69 (0.48) %\n",
      "------- For 5 components\n",
      "RandomForest : 94.33 (0.37) %\n",
      "GradientBoosting : 86.37 (0.51) %\n",
      "AdaBoost : 86.21 (0.34) %\n",
      "DecisionTree : 92.99 (0.66) %\n",
      "------- For 6 components\n",
      "RandomForest : 94.81 (0.51) %\n",
      "GradientBoosting : 88.45 (0.81) %\n",
      "AdaBoost : 87.74 (0.86) %\n",
      "DecisionTree : 93.80 (0.41) %\n",
      "------- For 7 components\n",
      "RandomForest : 95.03 (0.43) %\n",
      "GradientBoosting : 88.30 (0.85) %\n",
      "AdaBoost : 88.44 (0.89) %\n",
      "DecisionTree : 93.89 (0.71) %\n",
      "------- For 8 components\n",
      "RandomForest : 95.29 (0.23) %\n",
      "GradientBoosting : 88.28 (0.80) %\n",
      "AdaBoost : 88.23 (1.06) %\n",
      "DecisionTree : 93.92 (0.85) %\n",
      "------- For 9 components\n",
      "RandomForest : 95.32 (0.46) %\n",
      "GradientBoosting : 88.06 (0.78) %\n",
      "AdaBoost : 88.20 (1.07) %\n",
      "DecisionTree : 93.96 (0.38) %\n",
      "------- For 10 components\n",
      "RandomForest : 95.48 (0.22) %\n",
      "GradientBoosting : 88.20 (0.81) %\n",
      "AdaBoost : 88.22 (1.09) %\n",
      "DecisionTree : 94.05 (0.62) %\n",
      "------- For 11 components\n",
      "RandomForest : 95.60 (0.40) %\n",
      "GradientBoosting : 88.24 (0.78) %\n",
      "AdaBoost : 88.19 (1.05) %\n",
      "DecisionTree : 93.98 (0.52) %\n",
      "------- For 12 components\n",
      "RandomForest : 95.50 (0.34) %\n",
      "GradientBoosting : 88.20 (0.81) %\n",
      "AdaBoost : 88.17 (1.06) %\n",
      "DecisionTree : 93.95 (0.52) %\n",
      "------- For 13 components\n",
      "RandomForest : 95.49 (0.42) %\n",
      "GradientBoosting : 88.20 (0.81) %\n",
      "AdaBoost : 88.17 (1.06) %\n",
      "DecisionTree : 94.16 (0.47) %\n",
      "------- For 14 components\n",
      "RandomForest : 95.35 (0.34) %\n",
      "GradientBoosting : 88.20 (0.80) %\n",
      "AdaBoost : 88.17 (1.06) %\n",
      "DecisionTree : 94.06 (0.44) %\n",
      "------- For 15 components\n",
      "RandomForest : 95.58 (0.35) %\n",
      "GradientBoosting : 88.20 (0.80) %\n",
      "AdaBoost : 88.17 (1.06) %\n",
      "DecisionTree : 94.08 (0.45) %\n",
      "------- For 16 components\n",
      "RandomForest : 95.40 (0.35) %\n",
      "GradientBoosting : 88.20 (0.80) %\n",
      "AdaBoost : 88.17 (1.06) %\n",
      "DecisionTree : 94.09 (0.75) %\n",
      "------- For 17 components\n",
      "RandomForest : 95.63 (0.54) %\n",
      "GradientBoosting : 88.20 (0.80) %\n",
      "AdaBoost : 88.17 (1.06) %\n",
      "DecisionTree : 94.11 (0.75) %\n",
      "------- For 18 components\n",
      "RandomForest : 95.48 (0.49) %\n",
      "GradientBoosting : 88.20 (0.80) %\n",
      "AdaBoost : 88.17 (1.06) %\n",
      "DecisionTree : 93.84 (0.66) %\n",
      "------- For 19 components\n",
      "RandomForest : 95.78 (0.55) %\n",
      "GradientBoosting : 88.20 (0.80) %\n",
      "AdaBoost : 88.17 (1.06) %\n",
      "DecisionTree : 93.90 (0.59) %\n",
      "------- For 20 components\n",
      "RandomForest : 95.73 (0.35) %\n",
      "GradientBoosting : 88.20 (0.80) %\n",
      "AdaBoost : 88.17 (1.06) %\n",
      "DecisionTree : 93.88 (0.63) %\n"
     ]
    }
   ],
   "source": [
    "pca_scores = []\n",
    "\n",
    "for i in range(20):\n",
    "    print(f\"------- For {i+1} components\")\n",
    "    pca      = PCA(n_components = i+1, random_state = seed)\n",
    "    data_pca = pca.fit(this_data).transform(this_data)\n",
    "    \n",
    "    pca_scores.append(cross_val_classify(data_pca, target, 10, seed))"
   ]
  },
  {
   "cell_type": "code",
   "execution_count": 21,
   "id": "70e84aef",
   "metadata": {
    "execution": {
     "iopub.execute_input": "2021-07-30T20:45:13.079087Z",
     "iopub.status.busy": "2021-07-30T20:45:13.078421Z",
     "iopub.status.idle": "2021-07-30T20:45:13.081642Z",
     "shell.execute_reply": "2021-07-30T20:45:13.081096Z",
     "shell.execute_reply.started": "2021-07-30T20:42:23.440336Z"
    },
    "papermill": {
     "duration": 0.078544,
     "end_time": "2021-07-30T20:45:13.081788",
     "exception": false,
     "start_time": "2021-07-30T20:45:13.003244",
     "status": "completed"
    },
    "tags": []
   },
   "outputs": [],
   "source": [
    "pca_scores = pd.DataFrame([x[0] for x in pca_scores])\n",
    "pca_scores.index = range(1, 21)"
   ]
  },
  {
   "cell_type": "code",
   "execution_count": 22,
   "id": "3b4c4ec9",
   "metadata": {
    "execution": {
     "iopub.execute_input": "2021-07-30T20:45:13.221055Z",
     "iopub.status.busy": "2021-07-30T20:45:13.220261Z",
     "iopub.status.idle": "2021-07-30T20:45:13.610515Z",
     "shell.execute_reply": "2021-07-30T20:45:13.609678Z",
     "shell.execute_reply.started": "2021-07-30T20:42:23.449455Z"
    },
    "papermill": {
     "duration": 0.461257,
     "end_time": "2021-07-30T20:45:13.610680",
     "exception": false,
     "start_time": "2021-07-30T20:45:13.149423",
     "status": "completed"
    },
    "scrolled": true,
    "tags": []
   },
   "outputs": [
    {
     "data": {
      "text/plain": [
       "([<matplotlib.axis.XTick at 0x7f51a1dc5050>,\n",
       "  <matplotlib.axis.XTick at 0x7f51a1dc5310>,\n",
       "  <matplotlib.axis.XTick at 0x7f51a1eef4d0>,\n",
       "  <matplotlib.axis.XTick at 0x7f51a1db07d0>,\n",
       "  <matplotlib.axis.XTick at 0x7f51a1db05d0>,\n",
       "  <matplotlib.axis.XTick at 0x7f51a1d42390>,\n",
       "  <matplotlib.axis.XTick at 0x7f51a1d42490>,\n",
       "  <matplotlib.axis.XTick at 0x7f51a1d4b110>,\n",
       "  <matplotlib.axis.XTick at 0x7f51a1d4b310>,\n",
       "  <matplotlib.axis.XTick at 0x7f51a1d4ba90>,\n",
       "  <matplotlib.axis.XTick at 0x7f51a1e8c8d0>,\n",
       "  <matplotlib.axis.XTick at 0x7f51a1db0490>,\n",
       "  <matplotlib.axis.XTick at 0x7f51a1d5d350>,\n",
       "  <matplotlib.axis.XTick at 0x7f51a1d5d550>,\n",
       "  <matplotlib.axis.XTick at 0x7f51a1d65190>,\n",
       "  <matplotlib.axis.XTick at 0x7f51a1d5de10>,\n",
       "  <matplotlib.axis.XTick at 0x7f51a1d5d590>,\n",
       "  <matplotlib.axis.XTick at 0x7f51a1d65a10>,\n",
       "  <matplotlib.axis.XTick at 0x7f51a1d6e050>,\n",
       "  <matplotlib.axis.XTick at 0x7f51a1d6e250>],\n",
       " [Text(0, 0, ''),\n",
       "  Text(0, 0, ''),\n",
       "  Text(0, 0, ''),\n",
       "  Text(0, 0, ''),\n",
       "  Text(0, 0, ''),\n",
       "  Text(0, 0, ''),\n",
       "  Text(0, 0, ''),\n",
       "  Text(0, 0, ''),\n",
       "  Text(0, 0, ''),\n",
       "  Text(0, 0, ''),\n",
       "  Text(0, 0, ''),\n",
       "  Text(0, 0, ''),\n",
       "  Text(0, 0, ''),\n",
       "  Text(0, 0, ''),\n",
       "  Text(0, 0, ''),\n",
       "  Text(0, 0, ''),\n",
       "  Text(0, 0, ''),\n",
       "  Text(0, 0, ''),\n",
       "  Text(0, 0, ''),\n",
       "  Text(0, 0, '')])"
      ]
     },
     "execution_count": 22,
     "metadata": {},
     "output_type": "execute_result"
    },
    {
     "data": {
      "image/png": "[encoded data removed]",
      "text/plain": [
       "<Figure size 864x360 with 1 Axes>"
      ]
     },
     "metadata": {
      "needs_background": "light"
     },
     "output_type": "display_data"
    }
   ],
   "source": [
    "### Random Forest acc values\n",
    "pca_scores.plot(figsize = (12, 5))\n",
    "\n",
    "plt.grid(True)\n",
    "plt.xticks(range(1, 21))"
   ]
  },
  {
   "cell_type": "markdown",
   "id": "923cc517",
   "metadata": {
    "papermill": {
     "duration": 0.071716,
     "end_time": "2021-07-30T20:45:13.764065",
     "exception": false,
     "start_time": "2021-07-30T20:45:13.692349",
     "status": "completed"
    },
    "tags": []
   },
   "source": [
    "Hence, we define pca with 17 dimensions."
   ]
  },
  {
   "cell_type": "code",
   "execution_count": 23,
   "id": "fe4b0e01",
   "metadata": {
    "execution": {
     "iopub.execute_input": "2021-07-30T20:45:13.915975Z",
     "iopub.status.busy": "2021-07-30T20:45:13.914651Z",
     "iopub.status.idle": "2021-07-30T20:45:17.632732Z",
     "shell.execute_reply": "2021-07-30T20:45:17.632070Z",
     "shell.execute_reply.started": "2021-07-30T20:42:23.799757Z"
    },
    "papermill": {
     "duration": 3.796515,
     "end_time": "2021-07-30T20:45:17.632881",
     "exception": false,
     "start_time": "2021-07-30T20:45:13.836366",
     "status": "completed"
    },
    "tags": []
   },
   "outputs": [
    {
     "name": "stdout",
     "output_type": "stream",
     "text": [
      "RandomForest : 95.63 (0.54) %\n",
      "GradientBoosting : 88.20 (0.80) %\n",
      "AdaBoost : 88.17 (1.06) %\n",
      "DecisionTree : 94.11 (0.75) %\n"
     ]
    },
    {
     "data": {
      "text/plain": [
       "[0.9563093622795116,\n",
       " 0.8819538670284939,\n",
       " 0.8816824966078697,\n",
       " 0.9411126187245591]"
      ]
     },
     "execution_count": 23,
     "metadata": {},
     "output_type": "execute_result"
    }
   ],
   "source": [
    "pca      = PCA(n_components = 17, random_state = seed)\n",
    "data_pca = pca.fit(this_data).transform(this_data)\n",
    "\n",
    "cross_val_classify(data_pca, target, 10, seed)"
   ]
  },
  {
   "cell_type": "markdown",
   "id": "fca1b84d",
   "metadata": {
    "papermill": {
     "duration": 0.071179,
     "end_time": "2021-07-30T20:45:17.775394",
     "exception": false,
     "start_time": "2021-07-30T20:45:17.704215",
     "status": "completed"
    },
    "tags": []
   },
   "source": [
    "#### Feature Selection using ANOVA (statistical test)"
   ]
  },
  {
   "cell_type": "markdown",
   "id": "44d7ef48",
   "metadata": {
    "papermill": {
     "duration": 0.069077,
     "end_time": "2021-07-30T20:45:17.916523",
     "exception": false,
     "start_time": "2021-07-30T20:45:17.847446",
     "status": "completed"
    },
    "tags": []
   },
   "source": [
    "Chi2 does not work here since it has negative values."
   ]
  },
  {
   "cell_type": "code",
   "execution_count": 24,
   "id": "9c07b0ec",
   "metadata": {
    "execution": {
     "iopub.execute_input": "2021-07-30T20:45:18.061278Z",
     "iopub.status.busy": "2021-07-30T20:45:18.060538Z",
     "iopub.status.idle": "2021-07-30T20:45:28.876910Z",
     "shell.execute_reply": "2021-07-30T20:45:28.876177Z",
     "shell.execute_reply.started": "2021-07-30T20:42:27.485928Z"
    },
    "papermill": {
     "duration": 10.890504,
     "end_time": "2021-07-30T20:45:28.877105",
     "exception": false,
     "start_time": "2021-07-30T20:45:17.986601",
     "status": "completed"
    },
    "scrolled": true,
    "tags": []
   },
   "outputs": [
    {
     "name": "stdout",
     "output_type": "stream",
     "text": [
      "------- For 1 components\n",
      "RandomForest : 88.89 (0.49) %\n",
      "GradientBoosting : 88.89 (0.49) %\n",
      "AdaBoost : 88.89 (0.49) %\n",
      "DecisionTree : 88.89 (0.49) %\n",
      "------- For 2 components\n",
      "RandomForest : 91.26 (0.25) %\n",
      "GradientBoosting : 91.15 (0.36) %\n",
      "AdaBoost : 91.11 (0.34) %\n",
      "DecisionTree : 91.26 (0.25) %\n",
      "------- For 3 components\n",
      "RandomForest : 91.71 (0.29) %\n",
      "GradientBoosting : 91.71 (0.28) %\n",
      "AdaBoost : 91.73 (0.30) %\n",
      "DecisionTree : 91.70 (0.29) %\n",
      "------- For 4 components\n",
      "RandomForest : 92.13 (0.30) %\n",
      "GradientBoosting : 91.71 (0.28) %\n",
      "AdaBoost : 91.66 (0.26) %\n",
      "DecisionTree : 92.12 (0.29) %\n",
      "------- For 5 components\n",
      "RandomForest : 93.12 (0.25) %\n",
      "GradientBoosting : 91.71 (0.28) %\n",
      "AdaBoost : 90.95 (0.48) %\n",
      "DecisionTree : 93.12 (0.25) %\n",
      "------- For 6 components\n",
      "RandomForest : 93.29 (0.21) %\n",
      "GradientBoosting : 91.71 (0.28) %\n",
      "AdaBoost : 92.27 (0.12) %\n",
      "DecisionTree : 93.32 (0.30) %\n",
      "------- For 7 components\n",
      "RandomForest : 93.83 (0.36) %\n",
      "GradientBoosting : 91.71 (0.28) %\n",
      "AdaBoost : 92.75 (0.22) %\n",
      "DecisionTree : 93.82 (0.38) %\n",
      "------- For 8 components\n",
      "RandomForest : 93.89 (0.33) %\n",
      "GradientBoosting : 91.71 (0.28) %\n",
      "AdaBoost : 92.75 (0.22) %\n",
      "DecisionTree : 93.84 (0.33) %\n",
      "------- For 9 components\n",
      "RandomForest : 93.96 (0.35) %\n",
      "GradientBoosting : 91.71 (0.28) %\n",
      "AdaBoost : 92.86 (0.37) %\n",
      "DecisionTree : 94.04 (0.27) %\n",
      "------- For 10 components\n",
      "RandomForest : 94.40 (0.42) %\n",
      "GradientBoosting : 91.71 (0.28) %\n",
      "AdaBoost : 92.90 (0.46) %\n",
      "DecisionTree : 94.17 (0.41) %\n",
      "------- For 11 components\n",
      "RandomForest : 94.99 (0.56) %\n",
      "GradientBoosting : 91.71 (0.28) %\n",
      "AdaBoost : 92.90 (0.46) %\n",
      "DecisionTree : 94.63 (0.46) %\n",
      "------- For 12 components\n",
      "RandomForest : 95.18 (0.46) %\n",
      "GradientBoosting : 91.71 (0.28) %\n",
      "AdaBoost : 92.90 (0.46) %\n",
      "DecisionTree : 94.77 (0.40) %\n",
      "------- For 13 components\n",
      "RandomForest : 95.64 (0.47) %\n",
      "GradientBoosting : 91.71 (0.28) %\n",
      "AdaBoost : 92.90 (0.46) %\n",
      "DecisionTree : 94.91 (0.54) %\n",
      "------- For 14 components\n",
      "RandomForest : 95.77 (0.39) %\n",
      "GradientBoosting : 91.71 (0.28) %\n",
      "AdaBoost : 92.90 (0.46) %\n",
      "DecisionTree : 95.02 (0.52) %\n",
      "------- For 15 components\n",
      "RandomForest : 96.07 (0.39) %\n",
      "GradientBoosting : 91.71 (0.28) %\n",
      "AdaBoost : 92.90 (0.46) %\n",
      "DecisionTree : 95.52 (0.49) %\n",
      "------- For 16 components\n",
      "RandomForest : 96.04 (0.30) %\n",
      "GradientBoosting : 91.71 (0.28) %\n",
      "AdaBoost : 92.90 (0.46) %\n",
      "DecisionTree : 95.62 (0.34) %\n",
      "------- For 17 components\n",
      "RandomForest : 96.18 (0.19) %\n",
      "GradientBoosting : 91.71 (0.28) %\n",
      "AdaBoost : 92.90 (0.46) %\n",
      "DecisionTree : 95.52 (0.32) %\n",
      "------- For 18 components\n",
      "RandomForest : 96.23 (0.21) %\n",
      "GradientBoosting : 91.71 (0.28) %\n",
      "AdaBoost : 92.90 (0.46) %\n",
      "DecisionTree : 95.59 (0.17) %\n",
      "------- For 19 components\n",
      "RandomForest : 96.21 (0.18) %\n",
      "GradientBoosting : 91.71 (0.28) %\n",
      "AdaBoost : 92.90 (0.46) %\n",
      "DecisionTree : 95.62 (0.47) %\n",
      "------- For 20 components\n",
      "RandomForest : 96.30 (0.23) %\n",
      "GradientBoosting : 91.71 (0.28) %\n",
      "AdaBoost : 92.90 (0.46) %\n",
      "DecisionTree : 95.61 (0.46) %\n"
     ]
    }
   ],
   "source": [
    "stat_scores = []\n",
    "\n",
    "for i in range(20):\n",
    "    print(f\"------- For {i+1} components\")\n",
    "    \n",
    "    test      = SelectKBest(f_classif, k = i+1)\n",
    "    fit       = test.fit(this_data, target)\n",
    "    data_stat = fit.transform(this_data)\n",
    "    \n",
    "    stat_scores.append(cross_val_classify(data_stat, target, 10, seed))"
   ]
  },
  {
   "cell_type": "code",
   "execution_count": 25,
   "id": "f5f6e70d",
   "metadata": {
    "execution": {
     "iopub.execute_input": "2021-07-30T20:45:29.071902Z",
     "iopub.status.busy": "2021-07-30T20:45:29.068466Z",
     "iopub.status.idle": "2021-07-30T20:45:29.341697Z",
     "shell.execute_reply": "2021-07-30T20:45:29.341087Z",
     "shell.execute_reply.started": "2021-07-30T20:42:37.641192Z"
    },
    "papermill": {
     "duration": 0.382697,
     "end_time": "2021-07-30T20:45:29.341844",
     "exception": false,
     "start_time": "2021-07-30T20:45:28.959147",
     "status": "completed"
    },
    "scrolled": true,
    "tags": []
   },
   "outputs": [
    {
     "data": {
      "text/plain": [
       "([<matplotlib.axis.XTick at 0x7f51a1c706d0>,\n",
       "  <matplotlib.axis.XTick at 0x7f51a1c70e10>,\n",
       "  <matplotlib.axis.XTick at 0x7f51a1c505d0>,\n",
       "  <matplotlib.axis.XTick at 0x7f51a1c33950>,\n",
       "  <matplotlib.axis.XTick at 0x7f51a1c3d1d0>,\n",
       "  <matplotlib.axis.XTick at 0x7f51a1c33d90>,\n",
       "  <matplotlib.axis.XTick at 0x7f51a1c3d4d0>,\n",
       "  <matplotlib.axis.XTick at 0x7f51a03bb050>,\n",
       "  <matplotlib.axis.XTick at 0x7f51a03bb250>,\n",
       "  <matplotlib.axis.XTick at 0x7f51a03bbf50>,\n",
       "  <matplotlib.axis.XTick at 0x7f51a1c03190>,\n",
       "  <matplotlib.axis.XTick at 0x7f51a03c37d0>,\n",
       "  <matplotlib.axis.XTick at 0x7f51a03c3b90>,\n",
       "  <matplotlib.axis.XTick at 0x7f51a03bbfd0>,\n",
       "  <matplotlib.axis.XTick at 0x7f51a03bbd10>,\n",
       "  <matplotlib.axis.XTick at 0x7f51a03ce650>,\n",
       "  <matplotlib.axis.XTick at 0x7f51a03ce7d0>,\n",
       "  <matplotlib.axis.XTick at 0x7f51a03d8390>,\n",
       "  <matplotlib.axis.XTick at 0x7f51a03d8590>,\n",
       "  <matplotlib.axis.XTick at 0x7f51a03d8250>],\n",
       " [Text(0, 0, ''),\n",
       "  Text(0, 0, ''),\n",
       "  Text(0, 0, ''),\n",
       "  Text(0, 0, ''),\n",
       "  Text(0, 0, ''),\n",
       "  Text(0, 0, ''),\n",
       "  Text(0, 0, ''),\n",
       "  Text(0, 0, ''),\n",
       "  Text(0, 0, ''),\n",
       "  Text(0, 0, ''),\n",
       "  Text(0, 0, ''),\n",
       "  Text(0, 0, ''),\n",
       "  Text(0, 0, ''),\n",
       "  Text(0, 0, ''),\n",
       "  Text(0, 0, ''),\n",
       "  Text(0, 0, ''),\n",
       "  Text(0, 0, ''),\n",
       "  Text(0, 0, ''),\n",
       "  Text(0, 0, ''),\n",
       "  Text(0, 0, '')])"
      ]
     },
     "execution_count": 25,
     "metadata": {},
     "output_type": "execute_result"
    },
    {
     "data": {
      "image/png": "[encoded data removed]",
      "text/plain": [
       "<Figure size 864x360 with 1 Axes>"
      ]
     },
     "metadata": {
      "needs_background": "light"
     },
     "output_type": "display_data"
    }
   ],
   "source": [
    "stat_scores = pd.DataFrame([x[0] for x in stat_scores])\n",
    "stat_scores.index = range(1, 21)\n",
    "\n",
    "### Random Forest acc values\n",
    "stat_scores.plot(figsize = (12, 5))\n",
    "\n",
    "plt.grid(True)\n",
    "plt.xticks(range(1, 21))"
   ]
  },
  {
   "cell_type": "markdown",
   "id": "d8274eb2",
   "metadata": {
    "papermill": {
     "duration": 0.082659,
     "end_time": "2021-07-30T20:45:29.506775",
     "exception": false,
     "start_time": "2021-07-30T20:45:29.424116",
     "status": "completed"
    },
    "tags": []
   },
   "source": [
    "We set 15 features since the difference in acc when adding more features is small."
   ]
  },
  {
   "cell_type": "code",
   "execution_count": 26,
   "id": "b33edf71",
   "metadata": {
    "execution": {
     "iopub.execute_input": "2021-07-30T20:45:29.678114Z",
     "iopub.status.busy": "2021-07-30T20:45:29.677380Z",
     "iopub.status.idle": "2021-07-30T20:45:30.293269Z",
     "shell.execute_reply": "2021-07-30T20:45:30.293761Z",
     "shell.execute_reply.started": "2021-07-30T20:42:37.926054Z"
    },
    "papermill": {
     "duration": 0.705044,
     "end_time": "2021-07-30T20:45:30.293941",
     "exception": false,
     "start_time": "2021-07-30T20:45:29.588897",
     "status": "completed"
    },
    "tags": []
   },
   "outputs": [
    {
     "name": "stdout",
     "output_type": "stream",
     "text": [
      "RandomForest : 96.07 (0.39) %\n",
      "GradientBoosting : 91.71 (0.28) %\n",
      "AdaBoost : 92.90 (0.46) %\n",
      "DecisionTree : 95.52 (0.49) %\n"
     ]
    },
    {
     "data": {
      "text/plain": [
       "[0.9607417458163727,\n",
       " 0.9171415649027589,\n",
       " 0.9289914066033468,\n",
       " 0.9552238805970148]"
      ]
     },
     "execution_count": 26,
     "metadata": {},
     "output_type": "execute_result"
    }
   ],
   "source": [
    "test      = SelectKBest(f_classif, k = 15)\n",
    "fit       = test.fit(this_data, target)\n",
    "data_stat = fit.transform(this_data)\n",
    "\n",
    "cross_val_classify(data_stat, target, 10, seed)"
   ]
  },
  {
   "cell_type": "markdown",
   "id": "c7d5469b",
   "metadata": {
    "papermill": {
     "duration": 0.082835,
     "end_time": "2021-07-30T20:45:30.460568",
     "exception": false,
     "start_time": "2021-07-30T20:45:30.377733",
     "status": "completed"
    },
    "tags": []
   },
   "source": [
    "#### Outlier detection"
   ]
  },
  {
   "cell_type": "code",
   "execution_count": 27,
   "id": "72324a5f",
   "metadata": {
    "execution": {
     "iopub.execute_input": "2021-07-30T20:45:30.638847Z",
     "iopub.status.busy": "2021-07-30T20:45:30.638103Z",
     "iopub.status.idle": "2021-07-30T20:45:32.149410Z",
     "shell.execute_reply": "2021-07-30T20:45:32.148836Z",
     "shell.execute_reply.started": "2021-07-30T20:42:38.529531Z"
    },
    "papermill": {
     "duration": 1.605189,
     "end_time": "2021-07-30T20:45:32.149572",
     "exception": false,
     "start_time": "2021-07-30T20:45:30.544383",
     "status": "completed"
    },
    "tags": []
   },
   "outputs": [
    {
     "name": "stdout",
     "output_type": "stream",
     "text": [
      "RandomForest : 96.52 (0.35) %\n",
      "GradientBoosting : 91.48 (0.31) %\n",
      "AdaBoost : 92.48 (0.37) %\n",
      "DecisionTree : 95.70 (0.47) %\n"
     ]
    },
    {
     "data": {
      "text/plain": [
       "[0.9652228462574308, 0.9147653804467284, 0.924816591757177, 0.9569807812314461]"
      ]
     },
     "execution_count": 27,
     "metadata": {},
     "output_type": "execute_result"
    }
   ],
   "source": [
    "model  = ske.IsolationForest(n_estimators = 50, max_samples='auto', contamination=float(0.1), max_features=1.0, random_state = seed)\n",
    "y_pred = model.fit_predict(data_rfe)\n",
    "\n",
    "df_out     = pd.DataFrame(data_rfe[np.where(y_pred == 1, True, False)])\n",
    "target_out = target[np.where(y_pred == 1)]\n",
    "\n",
    "cross_val_classify(df_out, target_out, 10, seed)"
   ]
  },
  {
   "cell_type": "code",
   "execution_count": 28,
   "id": "e6639393",
   "metadata": {
    "execution": {
     "iopub.execute_input": "2021-07-30T20:45:32.329188Z",
     "iopub.status.busy": "2021-07-30T20:45:32.328177Z",
     "iopub.status.idle": "2021-07-30T20:45:34.900618Z",
     "shell.execute_reply": "2021-07-30T20:45:34.900068Z",
     "shell.execute_reply.started": "2021-07-30T20:42:40.164694Z"
    },
    "papermill": {
     "duration": 2.665675,
     "end_time": "2021-07-30T20:45:34.900770",
     "exception": false,
     "start_time": "2021-07-30T20:45:32.235095",
     "status": "completed"
    },
    "tags": []
   },
   "outputs": [
    {
     "name": "stdout",
     "output_type": "stream",
     "text": [
      "RandomForest : 96.82 (0.35) %\n",
      "GradientBoosting : 91.91 (0.48) %\n",
      "AdaBoost : 92.98 (0.54) %\n",
      "DecisionTree : 95.98 (0.29) %\n"
     ]
    },
    {
     "data": {
      "text/plain": [
       "[0.9682117107363121,\n",
       " 0.9190833078413378,\n",
       " 0.9297863369778293,\n",
       " 0.9597565600356545]"
      ]
     },
     "execution_count": 28,
     "metadata": {},
     "output_type": "execute_result"
    }
   ],
   "source": [
    "model  = LocalOutlierFactor(n_neighbors = 5)\n",
    "y_pred = model.fit_predict(data_rfe)\n",
    "\n",
    "df_out     = pd.DataFrame(data_rfe[np.where(y_pred == 1, True, False)])\n",
    "target_out = target[np.where(y_pred == 1)]\n",
    "\n",
    "cross_val_classify(df_out, target_out, 10, seed)"
   ]
  },
  {
   "cell_type": "markdown",
   "id": "6f26272d",
   "metadata": {
    "papermill": {
     "duration": 0.08782,
     "end_time": "2021-07-30T20:45:35.076222",
     "exception": false,
     "start_time": "2021-07-30T20:45:34.988402",
     "status": "completed"
    },
    "tags": []
   },
   "source": [
    "### Parameter Tuning"
   ]
  },
  {
   "cell_type": "code",
   "execution_count": 29,
   "id": "a8f74e3e",
   "metadata": {
    "execution": {
     "iopub.execute_input": "2021-07-30T20:45:35.255603Z",
     "iopub.status.busy": "2021-07-30T20:45:35.254657Z",
     "iopub.status.idle": "2021-07-30T20:45:56.731957Z",
     "shell.execute_reply": "2021-07-30T20:45:56.731421Z",
     "shell.execute_reply.started": "2021-07-30T20:42:42.681178Z"
    },
    "papermill": {
     "duration": 21.570213,
     "end_time": "2021-07-30T20:45:56.732121",
     "exception": false,
     "start_time": "2021-07-30T20:45:35.161908",
     "status": "completed"
    },
    "tags": []
   },
   "outputs": [
    {
     "name": "stdout",
     "output_type": "stream",
     "text": [
      "Fitting 5 folds for each of 10 candidates, totalling 50 fits\n"
     ]
    },
    {
     "name": "stderr",
     "output_type": "stream",
     "text": [
      "[Parallel(n_jobs=-1)]: Using backend LokyBackend with 4 concurrent workers.\n",
      "[Parallel(n_jobs=-1)]: Done  34 tasks      | elapsed:   10.0s\n",
      "[Parallel(n_jobs=-1)]: Done  50 out of  50 | elapsed:   20.2s finished\n"
     ]
    },
    {
     "data": {
      "text/plain": [
       "GridSearchCV(cv=StratifiedKFold(n_splits=5, random_state=3245678, shuffle=True),\n",
       "             estimator=RandomForestClassifier(random_state=3245678), n_jobs=-1,\n",
       "             param_grid={'criterion': ['gini', 'entropy'],\n",
       "                         'n_estimators': [10, 50, 100, 200, 500]},\n",
       "             verbose=3)"
      ]
     },
     "execution_count": 29,
     "metadata": {},
     "output_type": "execute_result"
    }
   ],
   "source": [
    "param_grid = { \n",
    "    'n_estimators': [10, 50, 100, 200, 500],\n",
    "    'criterion'   : ['gini', 'entropy']\n",
    "}\n",
    "\n",
    "skf    = StratifiedKFold(n_splits = 5, shuffle = True, random_state = seed)\n",
    "rfc    = ske.RandomForestClassifier(random_state = seed)\n",
    "CV_rfc = GridSearchCV(estimator = rfc, param_grid = param_grid, cv = skf, verbose = 3, n_jobs = -1)\n",
    "CV_rfc.fit(df_out, target_out)"
   ]
  },
  {
   "cell_type": "code",
   "execution_count": 30,
   "id": "40dca86a",
   "metadata": {
    "execution": {
     "iopub.execute_input": "2021-07-30T20:45:56.911157Z",
     "iopub.status.busy": "2021-07-30T20:45:56.910458Z",
     "iopub.status.idle": "2021-07-30T20:45:56.915556Z",
     "shell.execute_reply": "2021-07-30T20:45:56.916035Z",
     "shell.execute_reply.started": "2021-07-30T20:43:02.739903Z"
    },
    "papermill": {
     "duration": 0.095617,
     "end_time": "2021-07-30T20:45:56.916225",
     "exception": false,
     "start_time": "2021-07-30T20:45:56.820608",
     "status": "completed"
    },
    "tags": []
   },
   "outputs": [
    {
     "data": {
      "text/plain": [
       "{'criterion': 'entropy', 'n_estimators': 200}"
      ]
     },
     "execution_count": 30,
     "metadata": {},
     "output_type": "execute_result"
    }
   ],
   "source": [
    "CV_rfc.best_params_"
   ]
  },
  {
   "cell_type": "code",
   "execution_count": 31,
   "id": "15f5f646",
   "metadata": {
    "execution": {
     "iopub.execute_input": "2021-07-30T20:45:57.096463Z",
     "iopub.status.busy": "2021-07-30T20:45:57.095480Z",
     "iopub.status.idle": "2021-07-30T20:45:59.935524Z",
     "shell.execute_reply": "2021-07-30T20:45:59.934803Z",
     "shell.execute_reply.started": "2021-07-30T20:43:02.747836Z"
    },
    "papermill": {
     "duration": 2.932199,
     "end_time": "2021-07-30T20:45:59.935682",
     "exception": false,
     "start_time": "2021-07-30T20:45:57.003483",
     "status": "completed"
    },
    "tags": []
   },
   "outputs": [
    {
     "name": "stdout",
     "output_type": "stream",
     "text": [
      "Random Forest with Grid Search\n",
      "Acc (std) : 97.11 (0.20) %\n",
      "Pre (std) : 96.72 (0.20) %\n",
      "Rec (std) : 98.16 (0.47) %\n"
     ]
    }
   ],
   "source": [
    "scoring = ['accuracy', 'precision', 'recall']\n",
    "\n",
    "best_clf = CV_rfc.best_estimator_\n",
    "best_scores = cross_validate(best_clf, df_out, target_out, cv = skf, n_jobs = -1, scoring = scoring)\n",
    "\n",
    "print(\"Random Forest with Grid Search\")\n",
    "print(\"Acc (std) : %0.2f (%0.2f) %%\" % (best_scores['test_accuracy'].mean() * 100, best_scores['test_accuracy'].std() * 100))\n",
    "print(\"Pre (std) : %0.2f (%0.2f) %%\" % (best_scores['test_precision'].mean() * 100, best_scores['test_precision'].std() * 100))\n",
    "print(\"Rec (std) : %0.2f (%0.2f) %%\" % (best_scores['test_recall'].mean() * 100, best_scores['test_recall'].std() * 100))"
   ]
  },
  {
   "cell_type": "markdown",
   "id": "f6d09811",
   "metadata": {
    "papermill": {
     "duration": 0.089882,
     "end_time": "2021-07-30T20:46:00.115547",
     "exception": false,
     "start_time": "2021-07-30T20:46:00.025665",
     "status": "completed"
    },
    "tags": []
   },
   "source": [
    "#### Final Features"
   ]
  },
  {
   "cell_type": "code",
   "execution_count": 32,
   "id": "c230196c",
   "metadata": {
    "execution": {
     "iopub.execute_input": "2021-07-30T20:46:00.302596Z",
     "iopub.status.busy": "2021-07-30T20:46:00.301443Z",
     "iopub.status.idle": "2021-07-30T20:46:03.182780Z",
     "shell.execute_reply": "2021-07-30T20:46:03.182086Z",
     "shell.execute_reply.started": "2021-07-30T20:43:05.455378Z"
    },
    "papermill": {
     "duration": 2.97885,
     "end_time": "2021-07-30T20:46:03.182927",
     "exception": false,
     "start_time": "2021-07-30T20:46:00.204077",
     "status": "completed"
    },
    "tags": []
   },
   "outputs": [
    {
     "name": "stdout",
     "output_type": "stream",
     "text": [
      "Random Forest with 17 features \n",
      "\n",
      "Acc (std) : 97.11 (0.20) %\n",
      "Pre (std) : 96.72 (0.20) %\n",
      "Rec (std) : 98.16 (0.47) %\n"
     ]
    }
   ],
   "source": [
    "skf        = StratifiedKFold(n_splits = 5, shuffle = True, random_state = seed)\n",
    "clf        = ske.RandomForestClassifier(n_estimators = 10, random_state = seed)\n",
    "cut_scores = cross_validate(best_clf, df_out, target_out, cv = skf, n_jobs = -1, scoring = scoring)\n",
    "\n",
    "print(\"Random Forest with %d features \\n\" % df_out.shape[1])\n",
    "print(\"Acc (std) : %0.2f (%0.2f) %%\" % (cut_scores['test_accuracy'].mean() * 100, cut_scores['test_accuracy'].std() * 100))\n",
    "print(\"Pre (std) : %0.2f (%0.2f) %%\" % (cut_scores['test_precision'].mean() * 100, cut_scores['test_precision'].std() * 100))\n",
    "print(\"Rec (std) : %0.2f (%0.2f) %%\" % (cut_scores['test_recall'].mean() * 100, cut_scores['test_recall'].std() * 100))"
   ]
  },
  {
   "cell_type": "code",
   "execution_count": 33,
   "id": "2134dc99",
   "metadata": {
    "execution": {
     "iopub.execute_input": "2021-07-30T20:46:03.366903Z",
     "iopub.status.busy": "2021-07-30T20:46:03.366168Z",
     "iopub.status.idle": "2021-07-30T20:46:03.554576Z",
     "shell.execute_reply": "2021-07-30T20:46:03.555089Z",
     "shell.execute_reply.started": "2021-07-30T20:43:08.158668Z"
    },
    "papermill": {
     "duration": 0.283923,
     "end_time": "2021-07-30T20:46:03.555262",
     "exception": false,
     "start_time": "2021-07-30T20:46:03.271339",
     "status": "completed"
    },
    "tags": []
   },
   "outputs": [
    {
     "name": "stdout",
     "output_type": "stream",
     "text": [
      "False positive rate : 4.128218 %\n",
      "False negative rate : 2.430622 %\n"
     ]
    }
   ],
   "source": [
    "result = cross_val_predict(clf, df_out, target_out, cv = skf, n_jobs = -1)\n",
    "CM     = confusion_matrix(target_out, result)\n",
    "\n",
    "print(\"False positive rate : %f %%\" % ((CM[0][1] / float(sum(CM[0])))*100))\n",
    "print('False negative rate : %f %%' % ( (CM[1][0] / float(sum(CM[1]))*100)))"
   ]
  },
  {
   "cell_type": "code",
   "execution_count": 34,
   "id": "3c712849",
   "metadata": {
    "execution": {
     "iopub.execute_input": "2021-07-30T20:46:03.737775Z",
     "iopub.status.busy": "2021-07-30T20:46:03.737133Z",
     "iopub.status.idle": "2021-07-30T20:46:07.421438Z",
     "shell.execute_reply": "2021-07-30T20:46:07.421967Z",
     "shell.execute_reply.started": "2021-07-30T20:43:08.381601Z"
    },
    "papermill": {
     "duration": 3.776877,
     "end_time": "2021-07-30T20:46:07.422150",
     "exception": false,
     "start_time": "2021-07-30T20:46:03.645273",
     "status": "completed"
    },
    "tags": []
   },
   "outputs": [
    {
     "name": "stdout",
     "output_type": "stream",
     "text": [
      "Random Forest with all features\n",
      "Acc (std) : 97.21 (0.17) %\n",
      "Pre (std) : 96.85 (0.34) %\n",
      "Rec (std) : 98.20 (0.16) %\n"
     ]
    }
   ],
   "source": [
    "skf        = StratifiedKFold(n_splits = 5, shuffle = True, random_state = seed)\n",
    "clf        = ske.RandomForestClassifier(n_estimators = 10, random_state = seed)\n",
    "all_scores = cross_validate(best_clf, inputs, target, cv = skf, n_jobs = -1, scoring = scoring)\n",
    "\n",
    "print(\"Random Forest with all features\")\n",
    "print(\"Acc (std) : %0.2f (%0.2f) %%\" % (all_scores['test_accuracy'].mean() * 100, all_scores['test_accuracy'].std() * 100))\n",
    "print(\"Pre (std) : %0.2f (%0.2f) %%\" % (all_scores['test_precision'].mean() * 100, all_scores['test_precision'].std() * 100))\n",
    "print(\"Rec (std) : %0.2f (%0.2f) %%\" % (all_scores['test_recall'].mean() * 100, all_scores['test_recall'].std() * 100))"
   ]
  },
  {
   "cell_type": "code",
   "execution_count": 35,
   "id": "2375fccc",
   "metadata": {
    "execution": {
     "iopub.execute_input": "2021-07-30T20:46:07.606882Z",
     "iopub.status.busy": "2021-07-30T20:46:07.605807Z",
     "iopub.status.idle": "2021-07-30T20:46:11.344125Z",
     "shell.execute_reply": "2021-07-30T20:46:11.343469Z",
     "shell.execute_reply.started": "2021-07-30T20:43:11.934349Z"
    },
    "papermill": {
     "duration": 3.833469,
     "end_time": "2021-07-30T20:46:11.344277",
     "exception": false,
     "start_time": "2021-07-30T20:46:07.510808",
     "status": "completed"
    },
    "tags": []
   },
   "outputs": [
    {
     "name": "stdout",
     "output_type": "stream",
     "text": [
      "False positive rate : 4.022050 %\n",
      "False negative rate : 1.802826 %\n"
     ]
    }
   ],
   "source": [
    "result = cross_val_predict(best_clf, inputs, target, cv = skf, n_jobs = -1)\n",
    "CM     = confusion_matrix(target, result)\n",
    "\n",
    "print(\"False positive rate : %f %%\" % ((CM[0][1] / float(sum(CM[0])))*100))\n",
    "print('False negative rate : %f %%' % ( (CM[1][0] / float(sum(CM[1]))*100)))"
   ]
  },
  {
   "cell_type": "code",
   "execution_count": 36,
   "id": "ba30e005",
   "metadata": {
    "execution": {
     "iopub.execute_input": "2021-07-30T20:46:11.524475Z",
     "iopub.status.busy": "2021-07-30T20:46:11.523787Z",
     "iopub.status.idle": "2021-07-30T20:46:11.530873Z",
     "shell.execute_reply": "2021-07-30T20:46:11.531475Z",
     "shell.execute_reply.started": "2021-07-30T20:43:15.460065Z"
    },
    "papermill": {
     "duration": 0.0987,
     "end_time": "2021-07-30T20:46:11.531664",
     "exception": false,
     "start_time": "2021-07-30T20:46:11.432964",
     "status": "completed"
    },
    "tags": []
   },
   "outputs": [
    {
     "name": "stdout",
     "output_type": "stream",
     "text": [
      "Using less 13 features, with difference of 0.10 % in acc, 0.13 % in pre, and 0.03 % in rec\n"
     ]
    }
   ],
   "source": [
    "n0 = inputs.shape[1] - data_rfe.shape[1]\n",
    "n1 = all_scores['test_accuracy'].mean() * 100 - cut_scores['test_accuracy'].mean() * 100\n",
    "n2 = all_scores['test_precision'].mean() * 100 - cut_scores['test_precision'].mean() * 100\n",
    "n3 = all_scores['test_recall'].mean() * 100 - cut_scores['test_recall'].mean() * 100\n",
    "\n",
    "print(f\"Using less {n0} features, with difference of {n1:.2f} % in acc, {n2:.2f} % in pre, and {n3:.2f} % in rec\")"
   ]
  },
  {
   "cell_type": "code",
   "execution_count": 37,
   "id": "0a11c03c",
   "metadata": {
    "execution": {
     "iopub.execute_input": "2021-07-30T20:46:11.715434Z",
     "iopub.status.busy": "2021-07-30T20:46:11.714714Z",
     "iopub.status.idle": "2021-07-30T20:46:11.729173Z",
     "shell.execute_reply": "2021-07-30T20:46:11.729706Z",
     "shell.execute_reply.started": "2021-07-30T20:43:15.469389Z"
    },
    "papermill": {
     "duration": 0.108178,
     "end_time": "2021-07-30T20:46:11.729904",
     "exception": false,
     "start_time": "2021-07-30T20:46:11.621726",
     "status": "completed"
    },
    "tags": []
   },
   "outputs": [],
   "source": [
    "df_acc = pd.DataFrame(all_scores['test_accuracy'])\n",
    "df_acc = pd.concat([df_acc, pd.Series(cut_scores['test_accuracy'])])\n",
    "df_acc['metrics'] = ['all'] * 5 + ['selection'] * 5\n",
    "\n",
    "df_pre = pd.DataFrame(all_scores['test_precision'])\n",
    "df_pre = pd.concat([df_pre, pd.Series(cut_scores['test_precision'])])\n",
    "df_pre['metrics'] = ['all'] * 5 + ['selection'] * 5\n",
    "\n",
    "df_rec = pd.DataFrame(all_scores['test_recall'])\n",
    "df_rec = pd.concat([df_rec, pd.Series(cut_scores['test_recall'])])\n",
    "df_rec['metrics'] = ['all'] * 5 + ['selection'] * 5"
   ]
  },
  {
   "cell_type": "code",
   "execution_count": 38,
   "id": "3ee1956b",
   "metadata": {
    "execution": {
     "iopub.execute_input": "2021-07-30T20:46:11.912551Z",
     "iopub.status.busy": "2021-07-30T20:46:11.911905Z",
     "iopub.status.idle": "2021-07-30T20:46:12.497971Z",
     "shell.execute_reply": "2021-07-30T20:46:12.498444Z",
     "shell.execute_reply.started": "2021-07-30T20:43:15.492613Z"
    },
    "papermill": {
     "duration": 0.678213,
     "end_time": "2021-07-30T20:46:12.498621",
     "exception": false,
     "start_time": "2021-07-30T20:46:11.820408",
     "status": "completed"
    },
    "tags": []
   },
   "outputs": [
    {
     "data": {
      "image/png": "[encoded data removed]",
      "text/plain": [
       "<Figure size 864x360 with 3 Axes>"
      ]
     },
     "metadata": {
      "needs_background": "light"
     },
     "output_type": "display_data"
    }
   ],
   "source": [
    "fig, axes = plt.subplots(ncols = 3, figsize = (12, 5))\n",
    "\n",
    "df_acc.boxplot(by = 'metrics', ax = axes.flatten()[0])\n",
    "df_pre.boxplot(by = 'metrics', ax = axes.flatten()[1])\n",
    "df_rec.boxplot(by = 'metrics', ax = axes.flatten()[2])\n",
    "\n",
    "axes.flatten()[0].set_title('Accuracy')\n",
    "axes.flatten()[1].set_title('Precision')\n",
    "axes.flatten()[2].set_title('Recall')\n",
    "\n",
    "axes.flatten()[0].set_xlabel('')\n",
    "axes.flatten()[1].set_xlabel('')\n",
    "axes.flatten()[2].set_xlabel('')\n",
    "\n",
    "plt.show()"
   ]
  },
  {
   "cell_type": "code",
   "execution_count": null,
   "id": "a4a34bc2",
   "metadata": {
    "papermill": {
     "duration": 0.090385,
     "end_time": "2021-07-30T20:46:12.679821",
     "exception": false,
     "start_time": "2021-07-30T20:46:12.589436",
     "status": "completed"
    },
    "tags": []
   },
   "outputs": [],
   "source": []
  }
 ],
 "metadata": {
  "kernelspec": {
   "display_name": "Python 3",
   "language": "python",
   "name": "python3"
  },
  "language_info": {
   "codemirror_mode": {
    "name": "ipython",
    "version": 3
   },
   "file_extension": ".py",
   "mimetype": "text/x-python",
   "name": "python",
   "nbconvert_exporter": "python",
   "pygments_lexer": "ipython3",
   "version": "3.7.10"
  },
  "papermill": {
   "default_parameters": {},
   "duration": 130.767508,
   "end_time": "2021-07-30T20:46:13.582109",
   "environment_variables": {},
   "exception": null,
   "input_path": "__notebook__.ipynb",
   "output_path": "__notebook__.ipynb",
   "parameters": {},
   "start_time": "2021-07-30T20:44:02.814601",
   "version": "2.3.3"
  }
 },
 "nbformat": 4,
 "nbformat_minor": 5
}
